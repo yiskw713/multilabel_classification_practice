{
 "cells": [
  {
   "cell_type": "markdown",
   "metadata": {},
   "source": [
    "### build dataset"
   ]
  },
  {
   "cell_type": "code",
   "execution_count": 21,
   "metadata": {},
   "outputs": [],
   "source": [
    "import glob\n",
    "import pandas\n",
    "import numpy as np\n",
    "import scipy.io"
   ]
  },
  {
   "cell_type": "code",
   "execution_count": 22,
   "metadata": {},
   "outputs": [],
   "source": [
    "dir_path = glob.glob('./part-affordance-dataset/tools/*')"
   ]
  },
  {
   "cell_type": "code",
   "execution_count": 29,
   "metadata": {},
   "outputs": [],
   "source": [
    "image_path = []\n",
    "label_path = []\n",
    "\n",
    "for d in dir_path:\n",
    "    img_path = glob.glob(d + '/*.jpg')\n",
    "    \n",
    "    for img in img_path:\n",
    "        multi_hot = np.zeros(7, dtype=np.int64)\n",
    "        lab_path = img[:-7] + 'label.mat'\n",
    "        label = scipy.io.loadmat(lab_path)['gt_label']\n",
    "        for i in range(1, 8):\n",
    "            if i in label:\n",
    "                multi_hot[i-1] = 1\n",
    "        \n",
    "        image_path.append(img)\n",
    "        label_path.append(img[:-7] + 'label.npy')\n",
    "        np.save(img[:-7] + 'label.npy', multi_hot)"
   ]
  },
  {
   "cell_type": "code",
   "execution_count": 31,
   "metadata": {},
   "outputs": [
    {
     "data": {
      "text/plain": [
       "28843"
      ]
     },
     "execution_count": 31,
     "metadata": {},
     "output_type": "execute_result"
    }
   ],
   "source": [
    "len(image_path)"
   ]
  },
  {
   "cell_type": "code",
   "execution_count": 34,
   "metadata": {},
   "outputs": [
    {
     "data": {
      "text/plain": [
       "28843"
      ]
     },
     "execution_count": 34,
     "metadata": {},
     "output_type": "execute_result"
    }
   ],
   "source": [
    "len(label_path)"
   ]
  },
  {
   "cell_type": "code",
   "execution_count": 35,
   "metadata": {},
   "outputs": [],
   "source": [
    "image_train = []\n",
    "image_test = []\n",
    "label_train = []\n",
    "label_test = []\n",
    "\n",
    "for i, (img, lab) in enumerate(zip(image_path, label_path)):\n",
    "    if i%5 == 0:\n",
    "        image_test.append(img)\n",
    "        label_test.append(lab)\n",
    "    else:\n",
    "        image_train.append(img)\n",
    "        label_train.append(lab)"
   ]
  },
  {
   "cell_type": "code",
   "execution_count": 37,
   "metadata": {},
   "outputs": [],
   "source": [
    "df_train = pd.DataFrame({\n",
    "    'image': image_train,\n",
    "    'label': label_train},\n",
    "    columns=['image', 'label']\n",
    ")"
   ]
  },
  {
   "cell_type": "code",
   "execution_count": 38,
   "metadata": {},
   "outputs": [],
   "source": [
    "df_test = pd.DataFrame({\n",
    "    'image': image_test,\n",
    "    'label': label_test},\n",
    "    columns=['image', 'label']\n",
    ")"
   ]
  },
  {
   "cell_type": "code",
   "execution_count": 39,
   "metadata": {},
   "outputs": [],
   "source": [
    "data = pd.concat([df_train, df_test])"
   ]
  },
  {
   "cell_type": "code",
   "execution_count": 40,
   "metadata": {},
   "outputs": [],
   "source": [
    "df_train.to_csv('train.csv', index=None)\n",
    "df_test.to_csv('test.csv', index=None)\n",
    "data.to_csv('all_data.csv', index=None)"
   ]
  }
 ],
 "metadata": {
  "kernelspec": {
   "display_name": "Python 3",
   "language": "python",
   "name": "python3"
  },
  "language_info": {
   "codemirror_mode": {
    "name": "ipython",
    "version": 3
   },
   "file_extension": ".py",
   "mimetype": "text/x-python",
   "name": "python",
   "nbconvert_exporter": "python",
   "pygments_lexer": "ipython3",
   "version": "3.6.6"
  }
 },
 "nbformat": 4,
 "nbformat_minor": 2
}
